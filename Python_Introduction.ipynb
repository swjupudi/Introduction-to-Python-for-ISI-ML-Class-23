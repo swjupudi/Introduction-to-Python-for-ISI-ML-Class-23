{
  "nbformat": 4,
  "nbformat_minor": 0,
  "metadata": {
    "colab": {
      "provenance": [],
      "toc_visible": true
    },
    "kernelspec": {
      "name": "python3",
      "display_name": "Python 3"
    },
    "language_info": {
      "name": "python"
    }
  },
  "cells": [
    {
      "cell_type": "markdown",
      "source": [
        "# <font color='chocolate'>Introduction to Python Programming</font>\n",
        "\n",
        "Welcome to this introductory Jupyter notebook on Python programming! Python is a versatile and beginner-friendly programming language widely used for a variety of applications. This notebook aims to provide you with a foundational understanding of Python concepts, syntax, and essential techniques. Whether you are a complete beginner or have some programming experience, this notebook will guide you through the basics and help you build a decent foundation in Python programming."
      ],
      "metadata": {
        "id": "PubGmOlx7sA_"
      }
    },
    {
      "cell_type": "markdown",
      "source": [
        "How to use this notebook?\n",
        "\n",
        "Execute each cell by hitting the play button or cmd/ctrl + enter. \\\n",
        "You can view the Table of contents if you wish to navigate to a particular concept."
      ],
      "metadata": {
        "id": "ya2qzaQDEa0l"
      }
    },
    {
      "cell_type": "markdown",
      "source": [
        "#### <font color='orange'>Basic Math Operators</font>"
      ],
      "metadata": {
        "id": "tl4iZmF_-l6c"
      }
    },
    {
      "cell_type": "markdown",
      "source": [
        "Using python as a calculator"
      ],
      "metadata": {
        "id": "8B42KdDX7zIX"
      }
    },
    {
      "cell_type": "code",
      "source": [
        "# Addition Let me try editing this\n",
        "3 + 3"
      ],
      "metadata": {
        "id": "pBlaC2N6-h0T"
      },
      "execution_count": null,
      "outputs": []
    },
    {
      "cell_type": "code",
      "source": [
        "'''Subtraction '''\n",
        "3 - 4"
      ],
      "metadata": {
        "id": "fvR_JJspD7D0"
      },
      "execution_count": null,
      "outputs": []
    },
    {
      "cell_type": "code",
      "source": [
        "# Multiplication\n",
        "3 * 4"
      ],
      "metadata": {
        "id": "Tljsjr3_D--F",
        "collapsed": true
      },
      "execution_count": null,
      "outputs": []
    },
    {
      "cell_type": "code",
      "source": [
        "# Division\n",
        "3 / 4"
      ],
      "metadata": {
        "id": "QTk-lIWkEBOo",
        "collapsed": true
      },
      "execution_count": null,
      "outputs": []
    },
    {
      "cell_type": "code",
      "source": [
        "# Integer division\n",
        "3 // 4"
      ],
      "metadata": {
        "id": "zz1YBJv8EC55"
      },
      "execution_count": null,
      "outputs": []
    },
    {
      "cell_type": "code",
      "source": [
        "# Reminder\n",
        "3 % 4"
      ],
      "metadata": {
        "id": "PlaxBw6GEFxO"
      },
      "execution_count": null,
      "outputs": []
    },
    {
      "cell_type": "code",
      "source": [
        "# Follows the order of operations (PEMDAS) - multiplication first, then addition\n",
        "8 + 2 * 10"
      ],
      "metadata": {
        "id": "ewq_RSaDEHqf"
      },
      "execution_count": null,
      "outputs": []
    },
    {
      "cell_type": "code",
      "source": [
        "# Follows the order of operations (PEMDAS) - paranthesis first, then addition\n",
        "(8 + 2) * 10"
      ],
      "metadata": {
        "id": "wLy0CSbVELt8"
      },
      "execution_count": null,
      "outputs": []
    },
    {
      "cell_type": "code",
      "source": [
        "# Power\n",
        "3 ** 4"
      ],
      "metadata": {
        "id": "wmPxaejnEQ63"
      },
      "execution_count": null,
      "outputs": []
    },
    {
      "cell_type": "markdown",
      "source": [
        "#### <font color='orange'>Variables</font>"
      ],
      "metadata": {
        "id": "B2HH_dobE1AF"
      }
    },
    {
      "cell_type": "markdown",
      "source": [
        "There are certain rules about naming a variable:\n",
        "1. You can't enclose it in quotation marks.\n",
        "2. You can't have any spaces in it.\n",
        "3. It can't be a number or begin with a number.\n",
        "4. In addition, a variable can't be any of Python's reserved words,like print. Although, if a keyword is a part of the variable name, that's fine.\n",
        "5. A variable name can contain only lowercase letters, uppercase letters, numbers, and underscores.\n",
        "6. Capital letters are fine, but be careful. Variable names are case- sensitive. A rose with a lowercase r is not a Rose with an uppercase R. If you assign the string \"Floribundas\" to the variable rose, and then ask Python for the value assigned to Rose, you'll come up empty.\n"
      ],
      "metadata": {
        "id": "p81rQWcoF4Pz"
      }
    },
    {
      "cell_type": "code",
      "source": [
        "# Assigns the string \"Machine Learning\" to the variable 'course'\n",
        "course = \"Machine Learning\""
      ],
      "metadata": {
        "id": "KmRMECkME4wm"
      },
      "execution_count": null,
      "outputs": []
    },
    {
      "cell_type": "code",
      "source": [
        "# Prints the value of the variable 'course'\n",
        "print(course)"
      ],
      "metadata": {
        "id": "WEa3GY1-E_mQ"
      },
      "execution_count": null,
      "outputs": []
    },
    {
      "cell_type": "code",
      "source": [
        "# Assigns the integer 2 to the variable 'num'\n",
        "num = 2\n",
        "\n",
        "course + num"
      ],
      "metadata": {
        "id": "fJEI5aOdFCyR"
      },
      "execution_count": null,
      "outputs": []
    },
    {
      "cell_type": "code",
      "source": [
        "# Converts 'num' to a string using str() function and concatenates it with 'course'\n",
        "course + \" \" + str(num)\n"
      ],
      "metadata": {
        "id": "9eFaWLXNFJUc"
      },
      "execution_count": null,
      "outputs": []
    },
    {
      "cell_type": "code",
      "source": [
        "str(num)\n",
        "#new_num_converted"
      ],
      "metadata": {
        "id": "SfuCSSKAKb7s"
      },
      "execution_count": null,
      "outputs": []
    },
    {
      "cell_type": "code",
      "source": [
        "num"
      ],
      "metadata": {
        "id": "UpG2bFCGxwfQ"
      },
      "execution_count": null,
      "outputs": []
    },
    {
      "cell_type": "code",
      "source": [
        "# Adds 3 to 'num' and assigns the result to 'new_num'\n",
        "new_num = num + 3\n",
        "new_num"
      ],
      "metadata": {
        "id": "FdNJpvIxFUaD"
      },
      "execution_count": null,
      "outputs": []
    },
    {
      "cell_type": "code",
      "source": [
        "age = 10\n",
        "age = age + 1"
      ],
      "metadata": {
        "id": "i4oQGiwmFj7e"
      },
      "execution_count": null,
      "outputs": []
    },
    {
      "cell_type": "code",
      "source": [
        "age"
      ],
      "metadata": {
        "id": "fhkzgT4GG5IT"
      },
      "execution_count": null,
      "outputs": []
    },
    {
      "cell_type": "code",
      "source": [
        "age += 1\n",
        "\n",
        "age"
      ],
      "metadata": {
        "id": "nrMvVbNwHEAT"
      },
      "execution_count": null,
      "outputs": []
    },
    {
      "cell_type": "code",
      "source": [
        "print(age)"
      ],
      "metadata": {
        "id": "z_vSIZh6G7Yt"
      },
      "execution_count": null,
      "outputs": []
    },
    {
      "cell_type": "code",
      "source": [
        "print(age + 1)"
      ],
      "metadata": {
        "id": "1Vpu0r6hHMwJ"
      },
      "execution_count": null,
      "outputs": []
    },
    {
      "cell_type": "code",
      "source": [
        "age"
      ],
      "metadata": {
        "id": "22zTrwJ3ynCu"
      },
      "execution_count": null,
      "outputs": []
    },
    {
      "cell_type": "markdown",
      "source": [
        "#### <font color='orange'>Strings</font>\n"
      ],
      "metadata": {
        "id": "0QWfDs4GJAmw"
      }
    },
    {
      "cell_type": "code",
      "source": [
        "#Prints the string \"Hello, World!\"\n",
        "print(\"Hello, World!\")"
      ],
      "metadata": {
        "id": "aqtgy9EkJDuA",
        "colab": {
          "base_uri": "https://localhost:8080/"
        },
        "outputId": "f0479c6f-f9a5-4c2c-c340-593a79ddd42d"
      },
      "execution_count": null,
      "outputs": [
        {
          "output_type": "stream",
          "name": "stdout",
          "text": [
            "Hello, World!\n"
          ]
        }
      ]
    },
    {
      "cell_type": "code",
      "source": [
        "# Assigns the string \"Hello\" to the variable 'greeting'\n",
        "greeting = \"Hello\"\n",
        "# Assigns the string \" World\" to the variable 'addressee'\n",
        "addressee = \" World\"\n",
        "# Concatenates 'greeting' and 'addressee'\n",
        "whole_greeting = greeting + addressee"
      ],
      "metadata": {
        "id": "ygKlAdhmJKv5"
      },
      "execution_count": null,
      "outputs": []
    },
    {
      "cell_type": "code",
      "source": [
        "print(whole_greeting)\n",
        "a = 1\n",
        "a"
      ],
      "metadata": {
        "id": "WiNy2BmuzJOL"
      },
      "execution_count": null,
      "outputs": []
    },
    {
      "cell_type": "code",
      "source": [
        "print(whole_greeting)"
      ],
      "metadata": {
        "id": "nrJRM69eJTk0"
      },
      "execution_count": null,
      "outputs": []
    },
    {
      "cell_type": "code",
      "source": [
        "# Repeats the string 'hello ' two times\n",
        "'hello '  * 2"
      ],
      "metadata": {
        "id": "6AAu6kLMJXal"
      },
      "execution_count": null,
      "outputs": []
    },
    {
      "cell_type": "code",
      "source": [
        "name = \"Shruti\"\n",
        "name[0]"
      ],
      "metadata": {
        "id": "GfJgNNdlKRzq"
      },
      "execution_count": null,
      "outputs": []
    },
    {
      "cell_type": "code",
      "source": [
        "# Accesses the last character in the string\n",
        "name[-1]"
      ],
      "metadata": {
        "id": "Xp9cTqGbKj_W"
      },
      "execution_count": null,
      "outputs": []
    },
    {
      "cell_type": "code",
      "source": [
        "# Accesses the characters from index 0 to index 4 ( character at index 5 is not included)\n",
        "name[:5]"
      ],
      "metadata": {
        "id": "K0htxPeKKoMT"
      },
      "execution_count": null,
      "outputs": []
    },
    {
      "cell_type": "code",
      "source": [
        "# Length of variable name of string data type\n",
        "len(name)"
      ],
      "metadata": {
        "id": "1mvUJ4OsK1u5"
      },
      "execution_count": null,
      "outputs": []
    },
    {
      "cell_type": "code",
      "source": [
        "# Prints a formatted string that includes the value of the variable 'name'\n",
        "print(f\"Hello my name is {name}\")"
      ],
      "metadata": {
        "id": "i9XTQMNOMrBu"
      },
      "execution_count": null,
      "outputs": []
    },
    {
      "cell_type": "markdown",
      "source": [
        "More string functions can be found here: https://docs.python.org/2/library/string.html#string-functions"
      ],
      "metadata": {
        "id": "aELm5z7tMkpO"
      }
    },
    {
      "cell_type": "markdown",
      "source": [
        "#### <font color='orange'>Lists</font>"
      ],
      "metadata": {
        "id": "ioV2im6GNqup"
      }
    },
    {
      "cell_type": "code",
      "source": [
        "# Creates a list named 'cities' that contains cities of data type string. Note: Lists can be a mixture of strings, numbers, and even another list or dictionary.\n",
        "cities = [\"Atlanta\", \"Baltimore\", \"Chicago\", \"Denver\", \"Los Angeles\", \"Seattle\",2, 8.9, [1,'a', 2]]"
      ],
      "metadata": {
        "id": "8aOU4M1INu5W"
      },
      "execution_count": null,
      "outputs": []
    },
    {
      "cell_type": "code",
      "source": [
        "cities"
      ],
      "metadata": {
        "id": "BYrbjkCS1KVU"
      },
      "execution_count": null,
      "outputs": []
    },
    {
      "cell_type": "code",
      "source": [
        "# Access the last element of cities list and in that, access the element at index 1\n",
        "cities[-1][1]"
      ],
      "metadata": {
        "id": "pU4ztIaW3I6s"
      },
      "execution_count": null,
      "outputs": []
    },
    {
      "cell_type": "code",
      "source": [
        "# Add \"New York to the end of list cities\"\n",
        "cities.append(\"New York\")"
      ],
      "metadata": {
        "id": "ZEcG6BMm8YkK"
      },
      "execution_count": null,
      "outputs": []
    },
    {
      "cell_type": "code",
      "source": [
        "# Temporarily adds \"Dubuque\" and \"New Orleans\" to cities list without modifying the original cities list\n",
        "cities + [\"Dubuque\", \"New Orleans\"]\n",
        "cities"
      ],
      "metadata": {
        "id": "9XZGeV7M8fc8"
      },
      "execution_count": null,
      "outputs": []
    },
    {
      "cell_type": "code",
      "source": [
        "# Inserts the string \"Mumbai\" at index 2 in the 'cities' list.\n",
        "cities.insert(2, \"Mumbai\")"
      ],
      "metadata": {
        "id": "EAo-h1YbRo7M"
      },
      "execution_count": null,
      "outputs": []
    },
    {
      "cell_type": "code",
      "source": [
        "# Creates a new list 'smaller_list_of_cities' by slicing the 'cities' list from index 2 to index 4 (excluding index 5).\n",
        "smaller_list_of_cities = cities[2:5]\n",
        "smaller_list_of_cities"
      ],
      "metadata": {
        "id": "Ck7tCasa8yfW"
      },
      "execution_count": null,
      "outputs": []
    },
    {
      "cell_type": "code",
      "source": [
        "# Deletes the element at index 0 from the 'cities' list.\n",
        "del cities[0]\n",
        "cities"
      ],
      "metadata": {
        "id": "amUJxdhR80qF"
      },
      "execution_count": null,
      "outputs": []
    },
    {
      "cell_type": "code",
      "source": [
        "# Removes the first occurrence of the string 'Chicago' from the 'cities' list.\n",
        "cities.remove('Chicago')\n",
        "cities"
      ],
      "metadata": {
        "id": "dg4ZRTy_9ESK"
      },
      "execution_count": null,
      "outputs": []
    },
    {
      "cell_type": "code",
      "source": [
        "# Removes and returns the last element from the 'cities' list, assigning it to the variable 'last_city'.\n",
        "last_city = cities.pop(-1)\n",
        "print(last_city)\n",
        "print(cities)"
      ],
      "metadata": {
        "id": "ZOcN9mTJ9IIj"
      },
      "execution_count": null,
      "outputs": []
    },
    {
      "cell_type": "markdown",
      "source": [
        "#### <font color='orange'>Dictionaries</font>#"
      ],
      "metadata": {
        "id": "tLbxEWFdNvnS"
      }
    },
    {
      "cell_type": "code",
      "source": [
        "# Creates a dictionary called car with keys \"brand\", \"model\", and \"year\", and corresponding values.\n",
        "car = {\n",
        "    \"brand\": \"Ford\",\n",
        "    \"model\": \"Mustang\",\n",
        "    \"year\": 1964\n",
        "}\n"
      ],
      "metadata": {
        "id": "Q08pSc6JNzyR"
      },
      "execution_count": null,
      "outputs": []
    },
    {
      "cell_type": "code",
      "source": [
        "print(car[\"brand\"])  # Outputs: Ford\n"
      ],
      "metadata": {
        "id": "lFTXWOe3Bn5_"
      },
      "execution_count": null,
      "outputs": []
    },
    {
      "cell_type": "code",
      "source": [
        "# Change the calue of year in the dictionary car\n",
        "car[\"year\"] = 2023\n"
      ],
      "metadata": {
        "id": "Ha2O8_OABqAG"
      },
      "execution_count": null,
      "outputs": []
    },
    {
      "cell_type": "code",
      "source": [
        "car"
      ],
      "metadata": {
        "id": "WcN00j3bO9pG"
      },
      "execution_count": null,
      "outputs": []
    },
    {
      "cell_type": "code",
      "source": [
        "# If the key color is not present in the dictionary, create the key color with the value red\n",
        "car[\"color\"] = \"red\"\n",
        "car\n"
      ],
      "metadata": {
        "id": "FLMNvQ6bBups"
      },
      "execution_count": null,
      "outputs": []
    },
    {
      "cell_type": "code",
      "source": [
        "# If the key color is present in the dictionary, change it to purple, else, create the key color and assign the value purple to it\n",
        "car[\"color\"] = \"purple\""
      ],
      "metadata": {
        "id": "bkWgD0Tf4g3j"
      },
      "execution_count": null,
      "outputs": []
    },
    {
      "cell_type": "code",
      "source": [
        "car"
      ],
      "metadata": {
        "id": "_qNfuhY44pzl"
      },
      "execution_count": null,
      "outputs": []
    },
    {
      "cell_type": "code",
      "source": [
        "'''\n",
        "This loop essentially prints each key present in the car dictionary on separate lines.\n",
        "The loop iterates through each key and, within each iteration,\n",
        "the print() function is used to output the value of the key.\n",
        "'''\n",
        "\n",
        "for key in car:\n",
        "  print(key)"
      ],
      "metadata": {
        "id": "InXOurf7CL1n",
        "colab": {
          "base_uri": "https://localhost:8080/",
          "height": 198
        },
        "outputId": "cd67bd01-b98c-4d91-ae43-2d6332165da3"
      },
      "execution_count": null,
      "outputs": [
        {
          "output_type": "error",
          "ename": "NameError",
          "evalue": "ignored",
          "traceback": [
            "\u001b[0;31m---------------------------------------------------------------------------\u001b[0m",
            "\u001b[0;31mNameError\u001b[0m                                 Traceback (most recent call last)",
            "\u001b[0;32m<ipython-input-2-f8aaf723fb9e>\u001b[0m in \u001b[0;36m<cell line: 2>\u001b[0;34m()\u001b[0m\n\u001b[1;32m      1\u001b[0m \u001b[0;31m# for every key in the dictionary car, print the key.\u001b[0m\u001b[0;34m\u001b[0m\u001b[0;34m\u001b[0m\u001b[0m\n\u001b[0;32m----> 2\u001b[0;31m \u001b[0;32mfor\u001b[0m \u001b[0mkey\u001b[0m \u001b[0;32min\u001b[0m \u001b[0mcar\u001b[0m\u001b[0;34m:\u001b[0m\u001b[0;34m\u001b[0m\u001b[0;34m\u001b[0m\u001b[0m\n\u001b[0m\u001b[1;32m      3\u001b[0m   \u001b[0mprint\u001b[0m\u001b[0;34m(\u001b[0m\u001b[0mkey\u001b[0m\u001b[0;34m)\u001b[0m\u001b[0;34m\u001b[0m\u001b[0;34m\u001b[0m\u001b[0m\n",
            "\u001b[0;31mNameError\u001b[0m: name 'car' is not defined"
          ]
        }
      ]
    },
    {
      "cell_type": "code",
      "source": [
        "'''\n",
        "The loop iterates through each value and, within each iteration, the print() function is used to output the value.\n",
        "This loop essentially prints each value present in the car dictionary on separate lines.\n",
        "'''\n",
        "for value in car.values():\n",
        "  print(value)"
      ],
      "metadata": {
        "id": "rY6qjrjRCUHu"
      },
      "execution_count": null,
      "outputs": []
    },
    {
      "cell_type": "code",
      "source": [
        "car"
      ],
      "metadata": {
        "id": "T-mvE1Ps5dwH"
      },
      "execution_count": null,
      "outputs": []
    },
    {
      "cell_type": "code",
      "source": [
        "'''\n",
        "The loop iterates through each key-value pair, and within each iteration,\n",
        "the print() function is used to output a formatted string that includes both the key and value of the current pair.\n",
        "This loop essentially prints each key-value pair from the car dictionary on separate lines,\n",
        "with the key and value labeled in the output.\n",
        "'''\n",
        "for key, value in car.items():\n",
        "    print(f\"The key is '{key}' and the value is '{value}'\")\n"
      ],
      "metadata": {
        "id": "OfOK8AZ7Bwwu"
      },
      "execution_count": null,
      "outputs": []
    },
    {
      "cell_type": "code",
      "source": [
        "participants = {\"Ram\": [25,'male'], \"Sita\": [22,'female']}\n",
        "for name,value in participants.items():\n",
        "  print(f\"The name is {name} and the gen is '{value[1]}'\")"
      ],
      "metadata": {
        "id": "x5PP1Z5zQoxN"
      },
      "execution_count": null,
      "outputs": []
    },
    {
      "cell_type": "code",
      "source": [
        "participants.keys()"
      ],
      "metadata": {
        "id": "yox83ff_7Q1J"
      },
      "execution_count": null,
      "outputs": []
    },
    {
      "cell_type": "code",
      "source": [
        "for blah1,blah2 in participants.items():\n",
        "  print(blah1)\n",
        "  print(blah2)"
      ],
      "metadata": {
        "id": "375LJgaJ7E4F"
      },
      "execution_count": null,
      "outputs": []
    },
    {
      "cell_type": "markdown",
      "source": [
        "#### <font color='orange'>If Else Statements</font>#"
      ],
      "metadata": {
        "id": "eA7a2v9zN3pD"
      }
    },
    {
      "cell_type": "markdown",
      "source": [
        "We will now go over conditional statements using an if-else construct. The code checks the value of the variable ladoo_state. If ladoo_state is equal to the string 'fresh', it will execute the code block inside the if statement, which prints the message 'buy them all'. If ladoo_state is not equal to 'fresh', it will execute the code block inside the else statement, which prints the message \"don't buy\". The condition is used to determine which message to print based on the value of ladoo_state"
      ],
      "metadata": {
        "id": "G4qFwHVW2KBX"
      }
    },
    {
      "cell_type": "code",
      "source": [
        "ladoo_state = 'stale'"
      ],
      "metadata": {
        "id": "dnPrXvY-C3Xs"
      },
      "execution_count": null,
      "outputs": []
    },
    {
      "cell_type": "code",
      "source": [
        "print(ladoo_state)"
      ],
      "metadata": {
        "colab": {
          "base_uri": "https://localhost:8080/"
        },
        "id": "ZBTjHPteJR-R",
        "outputId": "b6c6bd7d-48cc-452b-ec4d-d70028570da7"
      },
      "execution_count": null,
      "outputs": [
        {
          "output_type": "stream",
          "name": "stdout",
          "text": [
            "stale\n"
          ]
        }
      ]
    },
    {
      "cell_type": "code",
      "source": [
        "# Checks the value of the variable 'ladoo_state'. If it is equal to 'fresh', prints 'buy them all'. Otherwise, prints \"don't buy\".\n",
        "\n",
        "if ladoo_state == 'fresh':\n",
        "  print('buy them all')\n",
        "else:\n",
        "  print(\"don't buy\")\n",
        "\n",
        "\n"
      ],
      "metadata": {
        "colab": {
          "base_uri": "https://localhost:8080/"
        },
        "id": "0bom3ze2LvXM",
        "outputId": "cacc549d-2087-4782-c927-665d12d792e2"
      },
      "execution_count": null,
      "outputs": [
        {
          "output_type": "stream",
          "name": "stdout",
          "text": [
            "don't buy\n"
          ]
        }
      ]
    },
    {
      "cell_type": "code",
      "source": [
        "if ladoo_state == \" very fresh\":\n",
        "  print(\"Buy them all!!!\")\n",
        "elif ladoo_state == 'fresh':\n",
        "  print(\"Buy few\")\n",
        "else:\n",
        "  print(\"Don't buy\")"
      ],
      "metadata": {
        "id": "fE3qwqkxOBXX",
        "colab": {
          "base_uri": "https://localhost:8080/"
        },
        "outputId": "7ada7b66-40e1-44e2-ab01-7d076db793b9"
      },
      "execution_count": null,
      "outputs": [
        {
          "output_type": "stream",
          "name": "stdout",
          "text": [
            "Buy few\n"
          ]
        }
      ]
    },
    {
      "cell_type": "markdown",
      "source": [
        "#### <font color='orange'>Functions</font>"
      ],
      "metadata": {
        "id": "7lhWXCzmOI4K"
      }
    },
    {
      "cell_type": "markdown",
      "source": [
        "A function is a named block of reusable code that performs a specific task or calculation. Functions are designed to help organize code into logical units, promote code reusability, and make programs more modular.\n",
        "\n",
        "To define a function, you typically use the def keyword followed by the function name and parentheses. Any input parameters (also known as arguments) are listed inside the parentheses"
      ],
      "metadata": {
        "id": "r3YA0-dX2uEY"
      }
    },
    {
      "cell_type": "code",
      "source": [
        "add_numbers()"
      ],
      "metadata": {
        "collapsed": true,
        "id": "yMFK8yVvUbPG"
      },
      "execution_count": null,
      "outputs": []
    },
    {
      "cell_type": "code",
      "source": [
        "# Defines a function named 'add_numbers' that adds two numbers (8 and 3) and returns the total.\n",
        "def add_numbers():\n",
        "  first_number = 8\n",
        "  second_number = 3\n",
        "  total = first_number + second_number\n",
        "  return total"
      ],
      "metadata": {
        "id": "Sd0X0s1JOLu5"
      },
      "execution_count": null,
      "outputs": []
    },
    {
      "cell_type": "code",
      "source": [
        "output = add_numbers()"
      ],
      "metadata": {
        "id": "pXMiXb8DOI1h"
      },
      "execution_count": null,
      "outputs": []
    },
    {
      "cell_type": "code",
      "source": [
        "output"
      ],
      "metadata": {
        "colab": {
          "base_uri": "https://localhost:8080/"
        },
        "id": "kMs9XwGcOUtQ",
        "outputId": "2686a238-f4a5-4f37-af98-cf5cb72d6b2e"
      },
      "execution_count": null,
      "outputs": [
        {
          "output_type": "execute_result",
          "data": {
            "text/plain": [
              "11"
            ]
          },
          "metadata": {},
          "execution_count": 15
        }
      ]
    },
    {
      "cell_type": "code",
      "source": [
        "add_numbers()\n"
      ],
      "metadata": {
        "id": "SpcZQcnkziJP",
        "colab": {
          "base_uri": "https://localhost:8080/"
        },
        "outputId": "f0f94e79-92ad-44c1-8a2f-23ae9a4c50a4"
      },
      "execution_count": null,
      "outputs": [
        {
          "output_type": "execute_result",
          "data": {
            "text/plain": [
              "11"
            ]
          },
          "metadata": {},
          "execution_count": 16
        }
      ]
    },
    {
      "cell_type": "markdown",
      "source": [
        "More about the input parameters.\n",
        "Input parameters, also known as arguments, are variables that you can define within the parentheses of a function definition. They allow you to pass data into the function, enabling the function to work with specific values or information.\n",
        "\n",
        "When defining a function, you can specify the input parameters that the function expects. These parameters act as placeholders for the values that will be passed into the function when it is called. You can then use these parameters within the function's code block to perform calculations, manipulate data, or carry out other operations"
      ],
      "metadata": {
        "id": "2-AiDwby3FWk"
      }
    },
    {
      "cell_type": "code",
      "source": [
        "def greet(name, age):\n",
        "    print(\"Hello, \" + name + \"! You are \" + str(age) + \" years old.\")\n"
      ],
      "metadata": {
        "id": "ldYAUA9p3EzF"
      },
      "execution_count": null,
      "outputs": []
    },
    {
      "cell_type": "markdown",
      "source": [
        "When calling a function that has input parameters, you provide the arguments in the same order as the parameter definition. Here's an example:"
      ],
      "metadata": {
        "id": "7b7zFJ0w3Wtr"
      }
    },
    {
      "cell_type": "code",
      "source": [
        "greet(\"Alicia\", 25)\n"
      ],
      "metadata": {
        "colab": {
          "base_uri": "https://localhost:8080/"
        },
        "id": "DB8FsDwL3aHo",
        "outputId": "f4e8e841-ebbf-4725-8e6a-837b68c677c4"
      },
      "execution_count": null,
      "outputs": [
        {
          "output_type": "stream",
          "name": "stdout",
          "text": [
            "Hello, Alicia! You are 25 years old.\n"
          ]
        }
      ]
    },
    {
      "cell_type": "markdown",
      "source": [
        "In this case, the function greet() is called with the arguments \"Alice\" and 25. The function then uses these values to print the greeting message, incorporating the provided name and age.\n",
        "\n",
        "It's worth noting that input parameters can have default values. By assigning a default value to a parameter in the function definition, you make it optional to provide an argument for that parameter when calling the function. If no argument is provided, the default value will be used. Here's an example:"
      ],
      "metadata": {
        "id": "u0SAjlwT3kwd"
      }
    },
    {
      "cell_type": "code",
      "source": [
        "def greet(name, age=30):\n",
        "    print(\"Hello, \" + name + \"! You are \" + str(age) + \" years old.\")\n"
      ],
      "metadata": {
        "id": "MemQI28s3nWN"
      },
      "execution_count": null,
      "outputs": []
    },
    {
      "cell_type": "markdown",
      "source": [
        "In this updated greet() function, the age parameter has a default value of 30. If the age argument is not provided when calling the function, it will default to 30. However, if an argument is provided, the provided value will be used instead.\n",
        "\n",
        "Using input parameters in functions allows for flexibility and customization. By accepting different values through arguments, you can reuse the same function with varying inputs, making your code more versatile and adaptable to different scenarios."
      ],
      "metadata": {
        "id": "L0-cQOwE3rzZ"
      }
    },
    {
      "cell_type": "markdown",
      "source": [
        "# <font color='chocolate'>Exercise</font>"
      ],
      "metadata": {
        "id": "LJbUJFrROQrW"
      }
    },
    {
      "cell_type": "markdown",
      "source": [
        "Two students in a class are learning Python, Math and English. As a teacher, I'm interested in knowing the following:\n",
        "1. Class average\n",
        "2. Class topper\n",
        "3. Highest marks scored by the individual student and the subject\n",
        "\n",
        "Can you write a python program to help her out?"
      ],
      "metadata": {
        "id": "md2XwMQeOtVi"
      }
    },
    {
      "cell_type": "code",
      "source": [
        "\"\"\" Our initial data is a dictionary where each student's name is a key and the values are\n",
        "another dictionary with each subject as a key and the marks as values. \"\"\"\n",
        "\n",
        "student_marks = {\n",
        "    \"Student1\": {\"Python\": 85, \"Math\": 90, \"English\": 95},\n",
        "    \"Student2\": {\"Python\": 78, \"Math\": 88, \"English\": 92},\n",
        "}\n",
        "\n",
        "# This function calculates the average, finds the student with the highest average, and finds the highest mark for each student.\n",
        "def calculate_average_topper_and_highest(student_marks):\n",
        "    # Create an empty dictionary to store the highest mark for each student.\n",
        "    highest_marks_per_student = {}\n",
        "\n",
        "    # Go through each student and their marks.\n",
        "    for student, subjects in student_marks.items():\n",
        "        # Calculate the total marks for this student.\n",
        "        total_marks = sum(subjects.values())\n",
        "        #print(subjects.values())\n",
        "        #print(f\"total_marks by {student} : {total_marks}\")\n",
        "\n",
        "        # Calculate the average marks for this student.\n",
        "        average_marks = total_marks / len(subjects)\n",
        "        #print(len(subjects))\n",
        "\n",
        "        # Store the average marks back in the dictionary.\n",
        "        student_marks[student][\"Average\"] = average_marks\n",
        "        #print(f\"Student marks: {student_marks}\")\n",
        "\n",
        "        # Find the highest mark for this student and store it along with the corresponding subject in the highest_marks_per_student dictionary.\n",
        "        highest_mark = max(subjects.values())\n",
        "        for subject, mark in subjects.items():\n",
        "            if mark == highest_mark:\n",
        "                highest_marks_per_student[student] = {\"mark\": highest_mark, \"subject\": subject}\n",
        "        #print(highest_marks_per_student)\n",
        "\n",
        "    # Calculate the class average by summing all averages and dividing by the number of students.\n",
        "    class_average = sum([marks[\"Average\"] for marks in student_marks.values()]) / len(student_marks)\n",
        "\n",
        "    # Find the student with the highest average. We do this by finding the maximum value of the \"Average\" for all students.\n",
        "    class_topper = max(student_marks, key=lambda student: student_marks[student][\"Average\"])\n",
        "\n",
        "    return class_average, class_topper, highest_marks_per_student\n",
        "\n",
        "# Call our function with the student_marks data.\n",
        "class_average, class_topper, highest_marks_per_student = calculate_average_topper_and_highest(student_marks)\n",
        "\n",
        "# Finally, print out the results.\n",
        "print(f\"Class Average: {class_average}\")\n",
        "print(f\"Class Topper: {class_topper}\")\n",
        "for student, highest_mark_info in highest_marks_per_student.items():\n",
        "    print(f\"Highest mark for {student}: {highest_mark_info['mark']} in {highest_mark_info['subject']}\")\n"
      ],
      "metadata": {
        "id": "mTpoDrAUOYnJ",
        "colab": {
          "base_uri": "https://localhost:8080/"
        },
        "outputId": "ff207c07-1699-4650-fa45-89512b79a030"
      },
      "execution_count": null,
      "outputs": [
        {
          "output_type": "stream",
          "name": "stdout",
          "text": [
            "Class Average: 88.0\n",
            "Class Topper: Student1\n",
            "Highest mark for Student1: 95 in English\n",
            "Highest mark for Student2: 92 in English\n"
          ]
        }
      ]
    },
    {
      "cell_type": "markdown",
      "source": [
        "Notice how it'a a bit complicated. This code can be simplified and be made more intuitive if we use pandas."
      ],
      "metadata": {
        "id": "iTpJ65nQqw6f"
      }
    },
    {
      "cell_type": "code",
      "source": [
        "import pandas as pd\n",
        "\n",
        "# Initial data as a pandas DataFrame\n",
        "student_marks = pd.DataFrame({\n",
        "    \"Python\": {\"Student1\": 85, \"Student2\": 78},\n",
        "    \"Math\": {\"Student1\": 90, \"Student2\": 88},\n",
        "    \"English\": {\"Student1\": 95, \"Student2\": 92},\n",
        "})\n",
        "print(student_marks)\n",
        "\n",
        "# Calculate the average marks for each student\n",
        "student_marks['Average'] = student_marks.mean(axis=1)\n",
        "#print(student_marks)\n",
        "\n",
        "# Calculate the class average\n",
        "class_average = student_marks['Average'].mean()\n",
        "#print(class_average)\n",
        "\n",
        "# Find the student with the highest average\n",
        "class_topper = student_marks['Average'].idxmax()\n",
        "#print(class_topper)\n",
        "\n",
        "# Find the subject and the mark where each student achieved their highest mark\n",
        "#print(student_marks)\n",
        "highest_marks_per_student = student_marks.drop('Average', axis=1).idxmax(axis=1)\n",
        "highest_marks = student_marks.drop('Average', axis=1).max(axis=1)\n",
        "\n",
        "# Print out the results\n",
        "print(f\"Class Average: {class_average}\")\n",
        "print(f\"Class Topper: {class_topper}\")\n",
        "\n",
        "for student in highest_marks_per_student.index:\n",
        "    print(f\"Highest mark for {student}: {highest_marks[student]} in {highest_marks_per_student[student]}\")\n"
      ],
      "metadata": {
        "id": "GrNxQZWtrJj7"
      },
      "execution_count": null,
      "outputs": []
    },
    {
      "cell_type": "code",
      "source": [
        "import pandas as pd\n",
        "student_marks = pd.DataFrame({\n",
        "    \"Python\": {\"Student1\": 85, \"Student2\": 78},\n",
        "    \"Math\": {\"Student1\": 90, \"Student2\": 88},\n",
        "    \"English\": {\"Student1\": 95, \"Student2\": 92},\n",
        "})\n",
        "print(student_marks)"
      ],
      "metadata": {
        "colab": {
          "base_uri": "https://localhost:8080/"
        },
        "id": "O6Q_LlrvtLNQ",
        "outputId": "3d6ca6cb-f4dd-45d4-f8f8-5b82244e647e"
      },
      "execution_count": null,
      "outputs": [
        {
          "output_type": "stream",
          "name": "stdout",
          "text": [
            "          Python  Math  English\n",
            "Student1      85    90       95\n",
            "Student2      78    88       92\n"
          ]
        }
      ]
    },
    {
      "cell_type": "code",
      "source": [
        "student_marks"
      ],
      "metadata": {
        "colab": {
          "base_uri": "https://localhost:8080/",
          "height": 111
        },
        "id": "_eunaZJQuNtS",
        "outputId": "dc1ac2fe-2529-4b80-f38d-eeb351863ff9"
      },
      "execution_count": null,
      "outputs": [
        {
          "output_type": "execute_result",
          "data": {
            "text/plain": [
              "          Python  Math  English\n",
              "Student1      85    90       95\n",
              "Student2      78    88       92"
            ],
            "text/html": [
              "\n",
              "  <div id=\"df-8d4acdc0-92e5-4179-914b-e4225104b19e\">\n",
              "    <div class=\"colab-df-container\">\n",
              "      <div>\n",
              "<style scoped>\n",
              "    .dataframe tbody tr th:only-of-type {\n",
              "        vertical-align: middle;\n",
              "    }\n",
              "\n",
              "    .dataframe tbody tr th {\n",
              "        vertical-align: top;\n",
              "    }\n",
              "\n",
              "    .dataframe thead th {\n",
              "        text-align: right;\n",
              "    }\n",
              "</style>\n",
              "<table border=\"1\" class=\"dataframe\">\n",
              "  <thead>\n",
              "    <tr style=\"text-align: right;\">\n",
              "      <th></th>\n",
              "      <th>Python</th>\n",
              "      <th>Math</th>\n",
              "      <th>English</th>\n",
              "    </tr>\n",
              "  </thead>\n",
              "  <tbody>\n",
              "    <tr>\n",
              "      <th>Student1</th>\n",
              "      <td>85</td>\n",
              "      <td>90</td>\n",
              "      <td>95</td>\n",
              "    </tr>\n",
              "    <tr>\n",
              "      <th>Student2</th>\n",
              "      <td>78</td>\n",
              "      <td>88</td>\n",
              "      <td>92</td>\n",
              "    </tr>\n",
              "  </tbody>\n",
              "</table>\n",
              "</div>\n",
              "      <button class=\"colab-df-convert\" onclick=\"convertToInteractive('df-8d4acdc0-92e5-4179-914b-e4225104b19e')\"\n",
              "              title=\"Convert this dataframe to an interactive table.\"\n",
              "              style=\"display:none;\">\n",
              "        \n",
              "  <svg xmlns=\"http://www.w3.org/2000/svg\" height=\"24px\"viewBox=\"0 0 24 24\"\n",
              "       width=\"24px\">\n",
              "    <path d=\"M0 0h24v24H0V0z\" fill=\"none\"/>\n",
              "    <path d=\"M18.56 5.44l.94 2.06.94-2.06 2.06-.94-2.06-.94-.94-2.06-.94 2.06-2.06.94zm-11 1L8.5 8.5l.94-2.06 2.06-.94-2.06-.94L8.5 2.5l-.94 2.06-2.06.94zm10 10l.94 2.06.94-2.06 2.06-.94-2.06-.94-.94-2.06-.94 2.06-2.06.94z\"/><path d=\"M17.41 7.96l-1.37-1.37c-.4-.4-.92-.59-1.43-.59-.52 0-1.04.2-1.43.59L10.3 9.45l-7.72 7.72c-.78.78-.78 2.05 0 2.83L4 21.41c.39.39.9.59 1.41.59.51 0 1.02-.2 1.41-.59l7.78-7.78 2.81-2.81c.8-.78.8-2.07 0-2.86zM5.41 20L4 18.59l7.72-7.72 1.47 1.35L5.41 20z\"/>\n",
              "  </svg>\n",
              "      </button>\n",
              "      \n",
              "  <style>\n",
              "    .colab-df-container {\n",
              "      display:flex;\n",
              "      flex-wrap:wrap;\n",
              "      gap: 12px;\n",
              "    }\n",
              "\n",
              "    .colab-df-convert {\n",
              "      background-color: #E8F0FE;\n",
              "      border: none;\n",
              "      border-radius: 50%;\n",
              "      cursor: pointer;\n",
              "      display: none;\n",
              "      fill: #1967D2;\n",
              "      height: 32px;\n",
              "      padding: 0 0 0 0;\n",
              "      width: 32px;\n",
              "    }\n",
              "\n",
              "    .colab-df-convert:hover {\n",
              "      background-color: #E2EBFA;\n",
              "      box-shadow: 0px 1px 2px rgba(60, 64, 67, 0.3), 0px 1px 3px 1px rgba(60, 64, 67, 0.15);\n",
              "      fill: #174EA6;\n",
              "    }\n",
              "\n",
              "    [theme=dark] .colab-df-convert {\n",
              "      background-color: #3B4455;\n",
              "      fill: #D2E3FC;\n",
              "    }\n",
              "\n",
              "    [theme=dark] .colab-df-convert:hover {\n",
              "      background-color: #434B5C;\n",
              "      box-shadow: 0px 1px 3px 1px rgba(0, 0, 0, 0.15);\n",
              "      filter: drop-shadow(0px 1px 2px rgba(0, 0, 0, 0.3));\n",
              "      fill: #FFFFFF;\n",
              "    }\n",
              "  </style>\n",
              "\n",
              "      <script>\n",
              "        const buttonEl =\n",
              "          document.querySelector('#df-8d4acdc0-92e5-4179-914b-e4225104b19e button.colab-df-convert');\n",
              "        buttonEl.style.display =\n",
              "          google.colab.kernel.accessAllowed ? 'block' : 'none';\n",
              "\n",
              "        async function convertToInteractive(key) {\n",
              "          const element = document.querySelector('#df-8d4acdc0-92e5-4179-914b-e4225104b19e');\n",
              "          const dataTable =\n",
              "            await google.colab.kernel.invokeFunction('convertToInteractive',\n",
              "                                                     [key], {});\n",
              "          if (!dataTable) return;\n",
              "\n",
              "          const docLinkHtml = 'Like what you see? Visit the ' +\n",
              "            '<a target=\"_blank\" href=https://colab.research.google.com/notebooks/data_table.ipynb>data table notebook</a>'\n",
              "            + ' to learn more about interactive tables.';\n",
              "          element.innerHTML = '';\n",
              "          dataTable['output_type'] = 'display_data';\n",
              "          await google.colab.output.renderOutput(dataTable, element);\n",
              "          const docLink = document.createElement('div');\n",
              "          docLink.innerHTML = docLinkHtml;\n",
              "          element.appendChild(docLink);\n",
              "        }\n",
              "      </script>\n",
              "    </div>\n",
              "  </div>\n",
              "  "
            ]
          },
          "metadata": {},
          "execution_count": 11
        }
      ]
    },
    {
      "cell_type": "code",
      "source": [
        "student_marks.sum()"
      ],
      "metadata": {
        "colab": {
          "base_uri": "https://localhost:8080/"
        },
        "id": "gcvXgQUYuTnk",
        "outputId": "5e82167c-eb3f-4905-bb4e-d8df94c5fcd9"
      },
      "execution_count": null,
      "outputs": [
        {
          "output_type": "execute_result",
          "data": {
            "text/plain": [
              "Python     163\n",
              "Math       178\n",
              "English    187\n",
              "dtype: int64"
            ]
          },
          "metadata": {},
          "execution_count": 12
        }
      ]
    },
    {
      "cell_type": "code",
      "source": [
        "student_marks.sum(axis=1)"
      ],
      "metadata": {
        "colab": {
          "base_uri": "https://localhost:8080/"
        },
        "id": "AWUYDg2euzzX",
        "outputId": "8271dbcd-9257-4695-fa35-e244d4e9c5da"
      },
      "execution_count": null,
      "outputs": [
        {
          "output_type": "execute_result",
          "data": {
            "text/plain": [
              "Student1    270\n",
              "Student2    258\n",
              "dtype: int64"
            ]
          },
          "metadata": {},
          "execution_count": 13
        }
      ]
    },
    {
      "cell_type": "code",
      "source": [
        "student_marks.mean(axis =0)"
      ],
      "metadata": {
        "colab": {
          "base_uri": "https://localhost:8080/"
        },
        "id": "qShhOkNxu8UR",
        "outputId": "60fde5fc-46d3-4a94-ef65-e820b7306051"
      },
      "execution_count": null,
      "outputs": [
        {
          "output_type": "execute_result",
          "data": {
            "text/plain": [
              "Python     81.5\n",
              "Math       89.0\n",
              "English    93.5\n",
              "dtype: float64"
            ]
          },
          "metadata": {},
          "execution_count": 15
        }
      ]
    },
    {
      "cell_type": "code",
      "source": [
        "def sum(a,b):\n",
        "  return a + b"
      ],
      "metadata": {
        "id": "XchKqc53tjWE"
      },
      "execution_count": null,
      "outputs": []
    },
    {
      "cell_type": "code",
      "source": [
        "sum(1,2)"
      ],
      "metadata": {
        "colab": {
          "base_uri": "https://localhost:8080/"
        },
        "id": "rV-QHr54tntg",
        "outputId": "902fe8ae-1141-4e52-a885-1d8c98090e09"
      },
      "execution_count": null,
      "outputs": [
        {
          "output_type": "execute_result",
          "data": {
            "text/plain": [
              "3"
            ]
          },
          "metadata": {},
          "execution_count": 10
        }
      ]
    }
  ]
}